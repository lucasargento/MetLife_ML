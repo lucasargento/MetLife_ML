{
 "cells": [
  {
   "cell_type": "markdown",
   "id": "e87b9a18-2a72-48f6-8ee2-b74ffb7618c0",
   "metadata": {
    "jp-MarkdownHeadingCollapsed": true
   },
   "source": [
    "### Initial Raw Tests"
   ]
  },
  {
   "cell_type": "code",
   "execution_count": 1,
   "id": "c04fd3b7-d458-441d-a251-cc2625631583",
   "metadata": {},
   "outputs": [],
   "source": [
    "# pip install mysql-connector-python\n",
    "import mysql.connector \n",
    "import pandas as pd"
   ]
  },
  {
   "cell_type": "code",
   "execution_count": 2,
   "id": "6ad11ebb-cc42-45f8-98e8-f29712a3c883",
   "metadata": {},
   "outputs": [],
   "source": [
    "# Connect to a local MySQL DB. in a real case scenario, this would probably be done via API to a cloud SQL instance.\n",
    "conn = mysql.connector.connect(\n",
    "    host=\"localhost\",\n",
    "    user=\"lucas\",\n",
    "    password=\"foo123\",\n",
    "    database=\"MetLifeChallenge\"\n",
    ")"
   ]
  },
  {
   "cell_type": "code",
   "execution_count": 3,
   "id": "05ee4939-8a78-4af9-8848-2ef0e1ff1879",
   "metadata": {},
   "outputs": [],
   "source": [
    "cursor = conn.cursor()"
   ]
  },
  {
   "cell_type": "code",
   "execution_count": 55,
   "id": "c5324ef0-f9e6-4284-866e-799653659f3f",
   "metadata": {},
   "outputs": [],
   "source": [
    "# Create the 'training_dataset' table\n",
    "create_table_query = \"\"\"\n",
    "CREATE TABLE IF NOT EXISTS training_dataset (\n",
    "    id INT AUTO_INCREMENT PRIMARY KEY,\n",
    "    age INT, \n",
    "    sex VARCHAR(255), \n",
    "    bmi DOUBLE, \n",
    "    children INT, \n",
    "    smoker VARCHAR(255),\n",
    "    region VARCHAR(255),\n",
    "    charges DOUBLE\n",
    ")\n",
    "\"\"\"\n",
    "cursor.execute(create_table_query)"
   ]
  },
  {
   "cell_type": "code",
   "execution_count": 56,
   "id": "3c24f9de-afb1-4528-9087-9d1e7a3aecfb",
   "metadata": {},
   "outputs": [
    {
     "data": {
      "text/plain": [
       "Index(['age', 'sex', 'bmi', 'children', 'smoker', 'region', 'charges'], dtype='object')"
      ]
     },
     "execution_count": 56,
     "metadata": {},
     "output_type": "execute_result"
    }
   ],
   "source": []
  },
  {
   "cell_type": "code",
   "execution_count": 50,
   "id": "1e007695-ac4c-45d1-a3d0-b2487377dad9",
   "metadata": {},
   "outputs": [],
   "source": [
    "# Load CSV data and Insert into the table\n",
    "data = pd.read_csv('Dataset/dataset.csv')\n",
    "\n",
    "for _, row in data.iterrows():\n",
    "    insert_query = \"INSERT INTO training_dataset (age, sex, bmi, children, smoker, region, charges) VALUES (%s, %s, %s, %s, %s, %s, %s)\"\n",
    "    cursor.execute(insert_query, tuple(row))"
   ]
  },
  {
   "cell_type": "code",
   "execution_count": 51,
   "id": "b450630a-0311-4445-bc95-c316f493a29b",
   "metadata": {},
   "outputs": [],
   "source": [
    "conn.commit()\n",
    "#conn.close()"
   ]
  },
  {
   "cell_type": "code",
   "execution_count": 57,
   "id": "16ec4a13-f13c-4bf7-bd90-ba4fb47bf5f4",
   "metadata": {},
   "outputs": [],
   "source": [
    "# testing purposes\n",
    "cursor = conn.cursor()\n",
    "\n",
    "select_query = '''\n",
    "SELECT * FROM training_dataset\n",
    "'''\n",
    "cursor.execute(select_query)\n",
    "results = cursor.fetchall()"
   ]
  },
  {
   "cell_type": "code",
   "execution_count": 59,
   "id": "d3835e45-3a86-44e6-b743-8bf5db2bf2e0",
   "metadata": {},
   "outputs": [
    {
     "name": "stdout",
     "output_type": "stream",
     "text": [
      "(11, 25, 'male', 26.22, 0, 'no', 'northeast', 2721.3208)\n"
     ]
    }
   ],
   "source": [
    "print(results[10])"
   ]
  },
  {
   "cell_type": "code",
   "execution_count": null,
   "id": "7b71df87-86f9-4283-bce9-fe69b5c94247",
   "metadata": {},
   "outputs": [],
   "source": [
    "conn.close()"
   ]
  },
  {
   "cell_type": "markdown",
   "id": "95df2afd-f7f9-4571-ad16-7e1c2808177c",
   "metadata": {},
   "source": [
    "### Testing MYSQL implementation"
   ]
  },
  {
   "cell_type": "code",
   "execution_count": 14,
   "id": "25d605da-77a9-4eb2-a831-e67cd3f7c557",
   "metadata": {},
   "outputs": [],
   "source": [
    "from Utils.db_builder import MySQLBuilder"
   ]
  },
  {
   "cell_type": "code",
   "execution_count": 15,
   "id": "1e31e9e8-d0b1-4d23-9fdc-1569c15aad5e",
   "metadata": {},
   "outputs": [
    {
     "name": "stdout",
     "output_type": "stream",
     "text": [
      "\n",
      " > MySQL helper initialized. Building Database instance.\n"
     ]
    }
   ],
   "source": [
    "db_name = \"MetLifeChallenge\"\n",
    "user = \"lucas\"\n",
    "password = \"foo123\"\n",
    "host = \"localhost\"\n",
    "table_name = \"training_dataset\"\n",
    "df_path = \"Dataset/dataset.csv\"\n",
    "\n",
    "builder = MySQLBuilder(\n",
    "    db_name = db_name, \n",
    "    table_name = table_name, \n",
    "    df_path = df_path, \n",
    "    host = host, \n",
    "    user = user,\n",
    "    pwd = password\n",
    ")\n"
   ]
  },
  {
   "cell_type": "code",
   "execution_count": 17,
   "id": "889d7aec-f6af-45fe-8ef3-150b9d36c9d8",
   "metadata": {},
   "outputs": [],
   "source": [
    "# create table and load data\n",
    "builder.create_training_table()\n",
    "#builder.load_csv_data()"
   ]
  },
  {
   "cell_type": "code",
   "execution_count": 9,
   "id": "7edea5ef-f344-49e5-9246-cced810875bf",
   "metadata": {},
   "outputs": [
    {
     "data": {
      "text/plain": [
       "[]"
      ]
     },
     "execution_count": 9,
     "metadata": {},
     "output_type": "execute_result"
    }
   ],
   "source": [
    "# delete data\n",
    "delete_query = '''DELETE FROM training_dataset'''\n",
    "builder.execute_sql_query(delete_query)"
   ]
  },
  {
   "cell_type": "code",
   "execution_count": 18,
   "id": "d01f493a-a096-4723-a1e5-0f4b59efdc6a",
   "metadata": {},
   "outputs": [
    {
     "name": "stdout",
     "output_type": "stream",
     "text": [
      "(2677, 19, 'female', 27.9, 0, 'yes', 'southwest', 16884.924)\n",
      "(2678, 18, 'male', 33.77, 1, 'no', 'southeast', 1725.5523)\n",
      "(2679, 28, 'male', 33.0, 3, 'no', 'southeast', 4449.462)\n",
      "(2680, 33, 'male', 22.705, 0, 'no', 'northwest', 21984.47061)\n",
      "(2681, 32, 'male', 28.88, 0, 'no', 'northwest', 3866.8552)\n",
      "(2682, 31, 'female', 25.74, 0, 'no', 'southeast', 3756.6216)\n",
      "(2683, 46, 'female', 33.44, 1, 'no', 'southeast', 8240.5896)\n",
      "(2684, 37, 'female', 27.74, 3, 'no', 'northwest', 7281.5056)\n",
      "(2685, 37, 'male', 29.83, 2, 'no', 'northeast', 6406.4107)\n",
      "(2686, 60, 'female', 25.84, 0, 'no', 'northwest', 28923.13692)\n"
     ]
    }
   ],
   "source": [
    "builder.print_rows()"
   ]
  },
  {
   "cell_type": "markdown",
   "id": "d6688d8b-bd47-43e2-b580-cb39b03580c3",
   "metadata": {},
   "source": [
    "### Testing training pipeline"
   ]
  },
  {
   "cell_type": "code",
   "execution_count": 1,
   "id": "1555460a-8fea-4dc0-b307-af5f2cb0b888",
   "metadata": {},
   "outputs": [],
   "source": [
    "from Pipelines.training import Trainer"
   ]
  },
  {
   "cell_type": "code",
   "execution_count": 2,
   "id": "99ad1245-c0bb-4a80-a5f0-d33283ced6ec",
   "metadata": {},
   "outputs": [
    {
     "name": "stdout",
     "output_type": "stream",
     "text": [
      "\n",
      " > Initialized Training Pipeline.\n"
     ]
    }
   ],
   "source": [
    "db_name = \"MetLifeChallenge\"\n",
    "user = \"lucas\"\n",
    "pwd = \"foo123\"\n",
    "host = \"localhost\"\n",
    "table_name = \"training_dataset\"\n",
    "df_path = \"Dataset/dataset.csv\"\n",
    "\n",
    "trainer = Trainer(db_name, user, pwd, host, table_name, df_path)"
   ]
  },
  {
   "cell_type": "code",
   "execution_count": 3,
   "id": "ed62fc3d-844d-4421-8a69-eb1978fe8d0b",
   "metadata": {},
   "outputs": [
    {
     "name": "stdout",
     "output_type": "stream",
     "text": [
      "\n",
      " > Starting Training process.\n",
      "\n",
      " > Extracting data from MySQL database.\n",
      "\n",
      " > MySQL helper initialized. Building Database instance.\n",
      "\n",
      " > Showing first 5 rows: \n",
      "       age     sex     bmi  children smoker     region      charges\n",
      "col1                                                              \n",
      "2677   19  female  27.900         0    yes  southwest  16884.92400\n",
      "2678   18    male  33.770         1     no  southeast   1725.55230\n",
      "2679   28    male  33.000         3     no  southeast   4449.46200\n",
      "2680   33    male  22.705         0     no  northwest  21984.47061\n",
      "2681   32    male  28.880         0     no  northwest   3866.85520\n",
      "\n",
      " > Preprocessing data. Encoding categorical values with OneHotEncoding, deleting nulls if any, replacing missing values. etc.\n",
      "\n",
      " > Performed an 80/20 split. Training set has 1070 examples and 16 predictor variables. Test set has 268 examples.\n",
      "\n",
      " > Scaling numerical variables. Make sure this process is always performed after splitting your data to avoid data leakage.\n",
      "\n",
      " > Training models. Performing HyperParameter tunning with Gridsearch cross validation. This could take a while..🧠\n",
      "\n",
      " > Results for Linear Regression\n",
      "\n",
      "Mean Squared Error on the training set: 37177349.70486657\n",
      "Mean Squared Error: 33641689.33\n",
      "Root Mean Squared Error: 5800.15\n",
      "MAE: 4146.09\n",
      "R2: 0.78\n",
      "\n",
      " > Results for Polinomial Regression\n",
      "\n",
      "Mean Squared Error on the training set: 37096089.82059017\n",
      "Mean Squared Error: 33797886.74941285\n",
      "Root Mean Squared Error: 5813.59\n",
      "MAE: 4198.64\n",
      "R2: 0.78\n",
      "\n",
      " > Results for Decision Tree Regressor\n",
      "\n",
      "Mean Squared Error on the training set: 21120357.016202502\n",
      "Mean Squared Error: 22812669.852340844\n",
      "Root Mean Squared Error: 4776.26\n",
      "MAE: 2865.64\n",
      "R2: 0.85\n",
      "\n",
      " > Results for Random Forest Regressor\n",
      "\n",
      "Mean Squared Error on the training set: 16338839.588402864\n",
      "Mean Squared Error: 19694368.347523533\n",
      "Root Mean Squared Error: 4437.83\n",
      "MAE: 2530.15\n",
      "R2: 0.87\n",
      "\n",
      " > Results for Gradient Boosting Regressor\n",
      "\n",
      "Mean Squared Error on the training set: 18826201.950826544\n",
      "Mean Squared Error: 19532273.664025005\n",
      "Root Mean Squared Error: 4419.53\n",
      "MAE: 2618.2\n",
      "R2: 0.87\n",
      "\n",
      " > Results for MLP Regressor\n",
      "\n",
      "Mean Squared Error on the training set: 18939795.469565045\n",
      "Mean Squared Error: 21837514.294053644\n",
      "Root Mean Squared Error: 4673.06\n",
      "MAE: 2807.66\n",
      "R2: 0.86\n",
      "\n",
      " > Evaluating and saving best model.\n",
      "Training results have been saved to training_output - 2023-11-04.csv\n",
      "\n",
      " ----> 🧠 Best model is Gradient Boosting 🧠 <----\n",
      "\n",
      " > Exporting best model to pkl file 'best_model.pkl'⬇️💾\n",
      "\n",
      " > Finished Training process succesfully\n"
     ]
    }
   ],
   "source": [
    "trainer.orchestrator()"
   ]
  },
  {
   "cell_type": "markdown",
   "id": "87d4b723-8e15-4a21-9396-bb1c487b4c4f",
   "metadata": {},
   "source": [
    "### Testing Scoring Pipeline"
   ]
  },
  {
   "cell_type": "code",
   "execution_count": 1,
   "id": "d77903e8-51fe-45a4-b86f-3b217d81386d",
   "metadata": {},
   "outputs": [],
   "source": [
    "from Pipelines.scoring import Scorer"
   ]
  },
  {
   "cell_type": "code",
   "execution_count": 2,
   "id": "8c5d8e00-7314-4972-bb3d-b9eb16269a2b",
   "metadata": {},
   "outputs": [
    {
     "name": "stdout",
     "output_type": "stream",
     "text": [
      "\n",
      " > Initialized Scoring Pipeline.\n"
     ]
    }
   ],
   "source": [
    "db_name = \"MetLifeChallenge\"\n",
    "user = \"lucas\"\n",
    "pwd = \"foo123\"\n",
    "host = \"localhost\"\n",
    "table_name = \"training_dataset\"\n",
    "df_path = \"Dataset/dataset.csv\"\n",
    "\n",
    "scorer = Scorer(db_name, user, pwd, host, table_name, df_path)"
   ]
  },
  {
   "cell_type": "code",
   "execution_count": 3,
   "id": "d28c96f5-2279-47bd-bb1d-507702398c31",
   "metadata": {},
   "outputs": [
    {
     "name": "stdout",
     "output_type": "stream",
     "text": [
      "\n",
      " > Initialized Scoring process.\n",
      "\n",
      " > Creating random samples.\n",
      "\n",
      " > MySQL helper initialized. Building Database instance.\n",
      "\n",
      " > Loading BestModel from memory.\n",
      "\n",
      " > Predicting charges...\n",
      "\n",
      " > Creating Scoring table on MySQL.\n",
      "\n",
      " ----> 🧠 Reported performance on sample data for RMSE: 3978.8979017958227 🧠 <----\n",
      "\n",
      " First records from scoring table: \n",
      " \n",
      "      age     sex     bmi  children smoker     region      charges  \\\n",
      "col1                                                                 \n",
      "1      37    male  34.100         4    yes  southwest  40182.24600   \n",
      "2      25    male  24.130         0    yes  northwest  15817.98570   \n",
      "3      54    male  30.210         0     no  northwest  10231.49990   \n",
      "4      53  female  36.860         3    yes  northwest  46661.44240   \n",
      "5      41  female  33.155         3     no  northeast   8538.28845   \n",
      "\n",
      "      predicted_charges  \n",
      "col1                     \n",
      "1          39695.532928  \n",
      "2          18195.091772  \n",
      "3          12478.290581  \n",
      "4          45165.585439  \n",
      "5           8029.938310  \n"
     ]
    }
   ],
   "source": [
    "scorer.orchestrator()"
   ]
  },
  {
   "cell_type": "code",
   "execution_count": null,
   "id": "9afc6b50-43c5-4309-9237-9b63ea34e186",
   "metadata": {},
   "outputs": [],
   "source": []
  },
  {
   "cell_type": "code",
   "execution_count": null,
   "id": "c826d7c1-a96a-4797-846e-ade54d0b2190",
   "metadata": {},
   "outputs": [],
   "source": []
  }
 ],
 "metadata": {
  "kernelspec": {
   "display_name": "Python 3 (ipykernel)",
   "language": "python",
   "name": "python3"
  },
  "language_info": {
   "codemirror_mode": {
    "name": "ipython",
    "version": 3
   },
   "file_extension": ".py",
   "mimetype": "text/x-python",
   "name": "python",
   "nbconvert_exporter": "python",
   "pygments_lexer": "ipython3",
   "version": "3.9.13"
  }
 },
 "nbformat": 4,
 "nbformat_minor": 5
}
